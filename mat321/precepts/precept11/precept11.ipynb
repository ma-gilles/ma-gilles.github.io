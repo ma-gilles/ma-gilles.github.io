{
 "cells": [
  {
   "attachments": {},
   "cell_type": "markdown",
   "metadata": {},
   "source": [
    "Precept 11: Numerical integration\n",
    "\n",
    "We experiment with numerical quadrature to estimate:\n",
    "\n",
    "$$ \\int_{-1}^1 f(x) dx $$\n",
    "\n",
    "Implement the Trapezoidal rule:\n",
    "\n",
    "$$ T(h) = - \\frac{h}{2} ( f(x_0) + f(x_n))  + h\\sum_{i=0}^{n} f(x_i) $$\n",
    "where $x_i = -1 + \\frac{2i}{n}$ , $h = \\frac{2}{n}$, $i = 0, \\dots n$.\n",
    "\n"
   ]
  },
  {
   "cell_type": "code",
   "execution_count": 1,
   "metadata": {},
   "outputs": [],
   "source": [
    "import numpy as np\n",
    "def trapezoidal_rule(f,n):\n",
    "    return 0\n"
   ]
  },
  {
   "attachments": {},
   "cell_type": "markdown",
   "metadata": {},
   "source": [
    "2. Test your rule on a smooth function:\n",
    "\n",
    "$$g(x) = 1/ (1 + 25 x^2) $$\n",
    "\n",
    "Make a log-log plot displaying the $O(h^2)$ convergence\n"
   ]
  },
  {
   "cell_type": "code",
   "execution_count": 2,
   "metadata": {},
   "outputs": [
    {
     "data": {
      "text/plain": [
       "[]"
      ]
     },
     "execution_count": 2,
     "metadata": {},
     "output_type": "execute_result"
    },
    {
     "data": {
      "image/png": "[encoded data removed]",
      "text/plain": [
       "<Figure size 432x288 with 1 Axes>"
      ]
     },
     "metadata": {
      "needs_background": "light"
     },
     "output_type": "display_data"
    }
   ],
   "source": [
    "import matplotlib.pyplot as plt\n",
    "g = lambda x : 1 / ( 1 + 25 * x**2)\n",
    "\n",
    "analytical_value = 2/5 *  np.arctan(5)\n",
    "nns = np.logspace(1,4, 20).astype(int)\n",
    "errors = np.zeros(nns.size)\n",
    "for n_idx, n in enumerate(nns):\n",
    "    a = 1\n",
    "    # Add your code here\n",
    "plt.loglog( )\n"
   ]
  },
  {
   "attachments": {},
   "cell_type": "markdown",
   "metadata": {},
   "source": [
    "3. Test it on a smooth and periodic function:\n",
    "\n",
    "$$ g(x) = \\exp( \\sin(2 \\pi x )) $$\n",
    "\n",
    "Make a semilog plot illustrating the spectral accuracy.\n"
   ]
  },
  {
   "cell_type": "code",
   "execution_count": 3,
   "metadata": {},
   "outputs": [
    {
     "data": {
      "text/plain": [
       "[]"
      ]
     },
     "execution_count": 3,
     "metadata": {},
     "output_type": "execute_result"
    },
    {
     "data": {
      "image/png": "[encoded data removed]",
      "text/plain": [
       "<Figure size 432x288 with 1 Axes>"
      ]
     },
     "metadata": {
      "needs_background": "light"
     },
     "output_type": "display_data"
    }
   ],
   "source": [
    "import matplotlib.pyplot as plt\n",
    "g2 = lambda x : np.exp(np.cos(2*np.pi*x))\n",
    "analytical_value = 2.5321317555040166711964892504294350752153406227099244136162706624\n",
    "nns = np.linspace(1,40).astype(int)\n",
    "errors = np.zeros(nns.size)\n",
    "\n",
    "## Add your code here\n",
    "\n",
    "plt.semilogy()\n"
   ]
  },
  {
   "attachments": {},
   "cell_type": "markdown",
   "metadata": {},
   "source": [
    "4. Use the Richardson extrapolation to get a $O(h^4)$ quadrature scheme based on the Trapezoidal rule:\n",
    "\n",
    "$$T_2(h) = \\frac{4 T(h/2) - T(h)}{3}$$\n",
    "\n",
    "Illustrate the convergence rate on the function\n",
    "\n",
    "$$g(x) = 1/ (1 + 25 x^2) $$\n",
    "\n",
    "a log-log plot."
   ]
  },
  {
   "cell_type": "code",
   "execution_count": 4,
   "metadata": {},
   "outputs": [
    {
     "data": {
      "text/plain": [
       "[]"
      ]
     },
     "execution_count": 4,
     "metadata": {},
     "output_type": "execute_result"
    },
    {
     "data": {
      "image/png": "[encoded data removed]",
      "text/plain": [
       "<Figure size 432x288 with 1 Axes>"
      ]
     },
     "metadata": {
      "needs_background": "light"
     },
     "output_type": "display_data"
    }
   ],
   "source": [
    "import matplotlib.pyplot as plt\n",
    "g = lambda x : 1 / ( 1 + 25 * x**2)\n",
    "analytical_value = 2/5 *  np.arctan(5)\n",
    "nns = np.logspace(1,4, 20).astype(int)\n",
    "errors = np.zeros(nns.size)\n",
    "## add your code here\n",
    "\n",
    "\n",
    "plt.loglog()\n",
    "\n"
   ]
  },
  {
   "attachments": {},
   "cell_type": "markdown",
   "metadata": {},
   "source": [
    "5. Legendre-Gauss quadrature.\n",
    "\n",
    "Let $x_1 \\le \\cdots \\le x_n$ be the roots of the $n$-th\n",
    "degree Legendre Polynomial $P_n(x)$, and let $w_1,\\ldots,w_n$ be weights such\n",
    "that\n",
    "$$\n",
    "\\sum_{k=1}^n P_j(x_k) w_k = \\int_{-1}^1 P_j(x) dx\n",
    "$$\n",
    "for $j = 0,\\ldots,n-1$. Together, the points $x_1,\\ldots,x_n$ and weights\n",
    "$w_1,\\ldots,w_n$ form a quadrature rule, which is a numerical rule for\n",
    "integrating a function. Given a function $f : [-1,1] \\rightarrow \\mathbb{R}$ we\n",
    "hope to approximate the integral of $f$ over $[-1,1]$ by\n",
    "$$ \n",
    "\\int_{-1}^1 f(x) dx \\approx \\sum_{k=1}^n f(x_k) w_k\n",
    "$$\n",
    "\n",
    "The weights and nodes can be computed by:\n",
    "`[x,w] = np.polynomial.legendre.leggauss(n)`\n",
    "\n",
    "This quadrature is spectrally accurate for smooth function. Make a semilog plot showing this behavior."
   ]
  },
  {
   "cell_type": "code",
   "execution_count": 5,
   "metadata": {},
   "outputs": [
    {
     "data": {
      "text/plain": [
       "[]"
      ]
     },
     "execution_count": 5,
     "metadata": {},
     "output_type": "execute_result"
    },
    {
     "data": {
      "image/png": "[encoded data removed]",
      "text/plain": [
       "<Figure size 432x288 with 1 Axes>"
      ]
     },
     "metadata": {
      "needs_background": "light"
     },
     "output_type": "display_data"
    }
   ],
   "source": [
    "import matplotlib.pyplot as plt\n",
    "g = lambda x : 1 / ( 1 + 25 * x**2)\n",
    "analytical_value = 2/5 *  np.arctan(5)\n",
    "nns = np.linspace(1, 100).astype(int)\n",
    "errors = np.zeros(nns.size)\n",
    "\n",
    "## add your code here\n",
    "\n",
    "plt.semilogy()\n",
    "\n"
   ]
  },
  {
   "attachments": {},
   "cell_type": "markdown",
   "metadata": {},
   "source": [
    "6. The degree-n Gauss-Legendre quadrature is exact for polynomials of degree $2n-1$.\n",
    "\n",
    "Check that your function  exactly integrates \n",
    "$ f(x) = (x^2+1)(x-3)(x-1)^2$ on $[-1,1]$ when $n=3$.\n",
    "\n"
   ]
  },
  {
   "cell_type": "code",
   "execution_count": 6,
   "metadata": {},
   "outputs": [
    {
     "name": "stdout",
     "output_type": "stream",
     "text": [
      "13.333333333333334\n"
     ]
    }
   ],
   "source": [
    "import matplotlib.pyplot as plt\n",
    "g = lambda x : (x**2 +1)*(x-3)*((x-1)**2)\n",
    "\n",
    "analytical_value = - 40/3\n",
    "## add your code ehre\n",
    "gl_quad = 0\n",
    "error = np.abs(analytical_value - gl_quad)\n",
    "print(error)\n"
   ]
  }
 ],
 "metadata": {
  "kernelspec": {
   "display_name": "asp",
   "language": "python",
   "name": "python3"
  },
  "language_info": {
   "codemirror_mode": {
    "name": "ipython",
    "version": 3
   },
   "file_extension": ".py",
   "mimetype": "text/x-python",
   "name": "python",
   "nbconvert_exporter": "python",
   "pygments_lexer": "ipython3",
   "version": "3.6.13"
  },
  "orig_nbformat": 4
 },
 "nbformat": 4,
 "nbformat_minor": 2
}
