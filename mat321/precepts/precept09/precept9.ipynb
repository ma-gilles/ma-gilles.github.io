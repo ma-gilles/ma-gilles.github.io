{
 "cells": [
  {
   "attachments": {},
   "cell_type": "markdown",
   "metadata": {},
   "source": [
    "## Precept 9: Krylov subspace methods\n",
    "\n",
    "Task 1: Compute a basis for the Krylov subspace:\n",
    "\n",
    "$$K_n(A,b) = \\{b, Ab, A^2b, \\dots, A^{k-1}b \\} $$\n",
    "\n",
    "using the Arnoldi iteration. Your function in Arnoldi step should do one step of the Arnoldi iteration, and fit into the (already written) Arnoldi iteration.\n",
    "\n",
    "Recall the Arnoldi iteration:\n",
    "![gs1](arnoldi.png)\n",
    "\n"
   ]
  },
  {
   "cell_type": "code",
   "execution_count": 2,
   "metadata": {},
   "outputs": [
    {
     "name": "stdout",
     "output_type": "stream",
     "text": [
      "error in AQn - QnHn 0.0\n",
      "error in Hessenberg 10.2384175355767\n"
     ]
    },
    {
     "data": {
      "image/png": "[encoded data removed]",
      "text/plain": [
       "<Figure size 432x288 with 1 Axes>"
      ]
     },
     "metadata": {
      "needs_background": "light"
     },
     "output_type": "display_data"
    },
    {
     "data": {
      "image/png": "[encoded data removed]",
      "text/plain": [
       "<Figure size 432x288 with 1 Axes>"
      ]
     },
     "metadata": {
      "needs_background": "light"
     },
     "output_type": "display_data"
    }
   ],
   "source": [
    "import numpy as np\n",
    "\n",
    "def Arnoldi_step(Qn, Hnm1, A):\n",
    "    # Given Qn, Hnm1 such that AQn = Qnm1 Hnm1\n",
    "    # Computes the next Qnp1 and Hn so that AQnp1 = Qn\n",
    "\n",
    "    m = Qn.shape[0]\n",
    "    n = Qn.shape[1]\n",
    "\n",
    "    Qnp1 = np.zeros((m,n+1))\n",
    "    Hn = np.zeros((n+1,n))\n",
    "\n",
    "    ## ADD YOUR CODE HERE\n",
    "\n",
    "    return Qnp1, Hn\n",
    "\n",
    "\n",
    "### Written for you.\n",
    "def Arnoldi_iteration(A,b, n):\n",
    "    Qnp1 = b[:,None].copy()  #Trick to add a dimension to Qnp1\n",
    "    Qnp1 /=  np.linalg.norm(b)\n",
    "    Hn = np.zeros((0,0))\n",
    "    for i in range(1,n):\n",
    "        Qnp1,Hn = Arnoldi_step(Qnp1, Hn, A)\n",
    "    return Qnp1, Hn\n",
    "\n",
    "\n",
    "## Test cases\n",
    "m = 10\n",
    "A = np.random.randn(m,m)\n",
    "b = np.random.randn(m)\n",
    "\n",
    "\n",
    "# If we run m iteration, we should get AQn = Qn+1 Hn\n",
    "n = 5\n",
    "Qnp1, Hn = Arnoldi_iteration(A,b,n)\n",
    "\n",
    "import matplotlib.pyplot as plt\n",
    "plt.imshow(Qnp1.T@Qnp1)\n",
    "plt.title('structure of Q.T Q (should be identity)')\n",
    "plt.figure()\n",
    "plt.imshow(Hn)\n",
    "plt.title('structure of H (should be upper hessenberg)')\n",
    "\n",
    "\n",
    "print('error in AQn - QnHn', np.linalg.norm(A@Qnp1[:,:-1] - Qnp1 @ Hn ) )\n",
    "\n",
    "# If we run m + 1 iteration, we should get a reduction to Upper Hessenberg:\n",
    "# (Although doesn't work for large n)\n",
    "Q, H = Arnoldi_iteration(A,b,m+1)\n",
    "Q = Q[:,:m]\n",
    "H = H[:m]\n",
    "A_recon = Q@H@Q.T\n",
    "print('error in Hessenberg', np.linalg.norm(A - A_recon))\n"
   ]
  },
  {
   "attachments": {},
   "cell_type": "markdown",
   "metadata": {},
   "source": [
    "## Task 2: GMRES\n",
    "\n",
    "Using your Arnoldi step function, write a GMRES solver:\n",
    "\n",
    "![gs1](gmres.png)\n",
    "\n",
    "\n",
    "Also compute the residual at each step and return it along with the last iterate.\n",
    "Although step n of GMRES can be computed in O(n^2), you can use a O(n^3) solver for the QR factorization (use `np.linalg.qr')"
   ]
  },
  {
   "cell_type": "code",
   "execution_count": 3,
   "metadata": {},
   "outputs": [
    {
     "name": "stdout",
     "output_type": "stream",
     "text": [
      "error (should be 0 since n iter == m): 1.0\n",
      "error after 50 iterations (should not be 0): 1.0\n"
     ]
    },
    {
     "data": {
      "text/plain": [
       "Text(0, 0.5, 'residual')"
      ]
     },
     "execution_count": 3,
     "metadata": {},
     "output_type": "execute_result"
    },
    {
     "data": {
      "image/png": "[encoded data removed]",
      "text/plain": [
       "<Figure size 432x288 with 1 Axes>"
      ]
     },
     "metadata": {
      "needs_background": "light"
     },
     "output_type": "display_data"
    }
   ],
   "source": [
    "\n",
    "\n",
    "def GMRES(A,b, n_iter):\n",
    "\n",
    "    Qnp1 = b / np.linalg.norm(b)\n",
    "    Qnp1 = Qnp1[:,None] # Add a dimension to Qnp1\n",
    "    Hn = 0 \n",
    "\n",
    "    # Store residuals in here\n",
    "    residuals = np.zeros(n_iter+1)\n",
    "    residuals[0] = np.linalg.norm(b)\n",
    "    x = np.zeros_like(b)\n",
    "    for k in range(1,n_iter+1):\n",
    "        x\n",
    "        ## WRITE THE GMRES ITERATION HERE\n",
    "\n",
    "    return x, residuals\n",
    "\n",
    "\n",
    "\n",
    "m = 10\n",
    "A = np.random.randn(m,m)\n",
    "b = np.random.randn(m)\n",
    "\n",
    "# Should be exact after m steps\n",
    "xm,r = GMRES(A,b, m)\n",
    "x_sol = np.linalg.solve(A,b)\n",
    "print('error (should be 0 since n iter == m):', np.linalg.norm(xm - x_sol) / np.linalg.norm(x_sol))\n",
    "\n",
    "# A large matrix, we want to step well before n_iter === m\n",
    "m = 1000\n",
    "A = np.random.randn(m,m)\n",
    "A = A.T @A + np.eye(m) * 1e3 # A well conditioned matrix\n",
    "b = np.random.randn(m)\n",
    "\n",
    "# Should not be exact after 50 steps\n",
    "n_iter = 50\n",
    "xm,r = GMRES(A,b, n_iter)\n",
    "x_sol = np.linalg.solve(A,b)\n",
    "print('error after 50 iterations (should not be 0):', np.linalg.norm(xm - x_sol) / np.linalg.norm(x_sol))\n",
    "\n",
    "plt.figure()\n",
    "plt.semilogy(r)\n",
    "plt.title('Decay of residual (large m), well conditioned matrix')\n",
    "plt.xlabel('iteration count')\n",
    "plt.ylabel('residual')\n"
   ]
  }
 ],
 "metadata": {
  "kernelspec": {
   "display_name": "asp",
   "language": "python",
   "name": "python3"
  },
  "language_info": {
   "codemirror_mode": {
    "name": "ipython",
    "version": 3
   },
   "file_extension": ".py",
   "mimetype": "text/x-python",
   "name": "python",
   "nbconvert_exporter": "python",
   "pygments_lexer": "ipython3",
   "version": "3.6.13"
  },
  "orig_nbformat": 4
 },
 "nbformat": 4,
 "nbformat_minor": 2
}
